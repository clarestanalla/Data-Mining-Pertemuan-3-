{
  "nbformat": 4,
  "nbformat_minor": 0,
  "metadata": {
    "colab": {
      "provenance": []
    },
    "kernelspec": {
      "name": "python3",
      "display_name": "Python 3"
    },
    "language_info": {
      "name": "python"
    }
  },
  "cells": [
    {
      "cell_type": "code",
      "execution_count": 1,
      "metadata": {
        "id": "KNOl8cqYs2Mh"
      },
      "outputs": [],
      "source": [
        "import numpy as np\n",
        "import matplotlib.pyplot as plt\n",
        "import pandas as pd"
      ]
    },
    {
      "cell_type": "code",
      "source": [
        "dataset = pd.read_csv('Automobile_data.csv')\n",
        "x = dataset.iloc[:, :-1].values\n",
        "y = dataset.iloc[:, -1].values"
      ],
      "metadata": {
        "id": "Z6ySQtNltQsd"
      },
      "execution_count": 2,
      "outputs": []
    },
    {
      "cell_type": "code",
      "source": [
        "import numpy as np\n",
        "x[x == '?'] = np.nan"
      ],
      "metadata": {
        "id": "RZMCoE8WtVn8"
      },
      "execution_count": 5,
      "outputs": []
    },
    {
      "cell_type": "code",
      "source": [
        "import numpy as np\n",
        "y[y == '?'] = np.nan"
      ],
      "metadata": {
        "id": "XX02clz-tbJy"
      },
      "execution_count": 6,
      "outputs": []
    },
    {
      "cell_type": "code",
      "source": [
        "print(x)"
      ],
      "metadata": {
        "colab": {
          "base_uri": "https://localhost:8080/"
        },
        "id": "Ulukc7NCteIz",
        "outputId": "0f69d17c-a4a1-4b44-fa43-864c12362725"
      },
      "execution_count": 7,
      "outputs": [
        {
          "output_type": "stream",
          "name": "stdout",
          "text": [
            "[[3 nan 'alfa-romero' ... '5000' 21 27]\n",
            " [3 nan 'alfa-romero' ... '5000' 21 27]\n",
            " [1 nan 'alfa-romero' ... '5000' 19 26]\n",
            " ...\n",
            " [-1 '95' 'volvo' ... '5500' 18 23]\n",
            " [-1 '95' 'volvo' ... '4800' 26 27]\n",
            " [-1 '95' 'volvo' ... '5400' 19 25]]\n"
          ]
        }
      ]
    },
    {
      "cell_type": "code",
      "source": [
        "print(y)"
      ],
      "metadata": {
        "colab": {
          "base_uri": "https://localhost:8080/"
        },
        "id": "ZQxCNDj-tf0f",
        "outputId": "4dfe259d-e0a3-4e4c-f15a-1c10dc674163"
      },
      "execution_count": 8,
      "outputs": [
        {
          "output_type": "stream",
          "name": "stdout",
          "text": [
            "['13495' '16500' '16500' '13950' '17450' '15250' '17710' '18920' '23875'\n",
            " nan '16430' '16925' '20970' '21105' '24565' '30760' '41315' '36880'\n",
            " '5151' '6295' '6575' '5572' '6377' '7957' '6229' '6692' '7609' '8558'\n",
            " '8921' '12964' '6479' '6855' '5399' '6529' '7129' '7295' '7295' '7895'\n",
            " '9095' '8845' '10295' '12945' '10345' '6785' nan nan '11048' '32250'\n",
            " '35550' '36000' '5195' '6095' '6795' '6695' '7395' '10945' '11845'\n",
            " '13645' '15645' '8845' '8495' '10595' '10245' '10795' '11245' '18280'\n",
            " '18344' '25552' '28248' '28176' '31600' '34184' '35056' '40960' '45400'\n",
            " '16503' '5389' '6189' '6669' '7689' '9959' '8499' '12629' '14869' '14489'\n",
            " '6989' '8189' '9279' '9279' '5499' '7099' '6649' '6849' '7349' '7299'\n",
            " '7799' '7499' '7999' '8249' '8949' '9549' '13499' '14399' '13499' '17199'\n",
            " '19699' '18399' '11900' '13200' '12440' '13860' '15580' '16900' '16695'\n",
            " '17075' '16630' '17950' '18150' '5572' '7957' '6229' '6692' '7609' '8921'\n",
            " '12764' '22018' '32528' '34028' '37028' nan '9295' '9895' '11850' '12170'\n",
            " '15040' '15510' '18150' '18620' '5118' '7053' '7603' '7126' '7775' '9960'\n",
            " '9233' '11259' '7463' '10198' '8013' '11694' '5348' '6338' '6488' '6918'\n",
            " '7898' '8778' '6938' '7198' '7898' '7788' '7738' '8358' '9258' '8058'\n",
            " '8238' '9298' '9538' '8449' '9639' '9989' '11199' '11549' '17669' '8948'\n",
            " '10698' '9988' '10898' '11248' '16558' '15998' '15690' '15750' '7775'\n",
            " '7975' '7995' '8195' '8495' '9495' '9995' '11595' '9980' '13295' '13845'\n",
            " '12290' '12940' '13415' '15985' '16515' '18420' '18950' '16845' '19045'\n",
            " '21485' '22470' '22625']\n"
          ]
        }
      ]
    },
    {
      "cell_type": "code",
      "source": [
        "from sklearn.impute import SimpleImputer\n",
        "imputer = SimpleImputer(missing_values=np.nan, strategy='mean')\n",
        "imputer.fit(x[:, 1:2])\n",
        "x[:, 1:2] = imputer.transform(x[:, 1:2])"
      ],
      "metadata": {
        "id": "Zo1gf4Rhtkkv"
      },
      "execution_count": 9,
      "outputs": []
    },
    {
      "cell_type": "code",
      "source": [
        "print(x)"
      ],
      "metadata": {
        "colab": {
          "base_uri": "https://localhost:8080/"
        },
        "id": "PCAKDxhDtnCc",
        "outputId": "fda692c6-4844-4f37-bd23-9ca054c76f09"
      },
      "execution_count": 10,
      "outputs": [
        {
          "output_type": "stream",
          "name": "stdout",
          "text": [
            "[[3 122.0 'alfa-romero' ... '5000' 21 27]\n",
            " [3 122.0 'alfa-romero' ... '5000' 21 27]\n",
            " [1 122.0 'alfa-romero' ... '5000' 19 26]\n",
            " ...\n",
            " [-1 95.0 'volvo' ... '5500' 18 23]\n",
            " [-1 95.0 'volvo' ... '4800' 26 27]\n",
            " [-1 95.0 'volvo' ... '5400' 19 25]]\n"
          ]
        }
      ]
    },
    {
      "cell_type": "code",
      "source": [
        "from sklearn.impute import SimpleImputer\n",
        "import numpy as np\n",
        "y = y.reshape(-1, 1)\n",
        "imputer = SimpleImputer(missing_values=np.nan, strategy='mean')\n",
        "imputer.fit(y)\n",
        "y = imputer.transform(y)\n"
      ],
      "metadata": {
        "id": "nn3urwqwuSqW"
      },
      "execution_count": 13,
      "outputs": []
    },
    {
      "cell_type": "code",
      "source": [
        "print(y)"
      ],
      "metadata": {
        "colab": {
          "base_uri": "https://localhost:8080/"
        },
        "id": "1S7lXx06ueBm",
        "outputId": "c0c0554b-03b3-4327-af6b-20e752c8538c"
      },
      "execution_count": 14,
      "outputs": [
        {
          "output_type": "stream",
          "name": "stdout",
          "text": [
            "[[13495.        ]\n",
            " [16500.        ]\n",
            " [16500.        ]\n",
            " [13950.        ]\n",
            " [17450.        ]\n",
            " [15250.        ]\n",
            " [17710.        ]\n",
            " [18920.        ]\n",
            " [23875.        ]\n",
            " [13207.12935323]\n",
            " [16430.        ]\n",
            " [16925.        ]\n",
            " [20970.        ]\n",
            " [21105.        ]\n",
            " [24565.        ]\n",
            " [30760.        ]\n",
            " [41315.        ]\n",
            " [36880.        ]\n",
            " [ 5151.        ]\n",
            " [ 6295.        ]\n",
            " [ 6575.        ]\n",
            " [ 5572.        ]\n",
            " [ 6377.        ]\n",
            " [ 7957.        ]\n",
            " [ 6229.        ]\n",
            " [ 6692.        ]\n",
            " [ 7609.        ]\n",
            " [ 8558.        ]\n",
            " [ 8921.        ]\n",
            " [12964.        ]\n",
            " [ 6479.        ]\n",
            " [ 6855.        ]\n",
            " [ 5399.        ]\n",
            " [ 6529.        ]\n",
            " [ 7129.        ]\n",
            " [ 7295.        ]\n",
            " [ 7295.        ]\n",
            " [ 7895.        ]\n",
            " [ 9095.        ]\n",
            " [ 8845.        ]\n",
            " [10295.        ]\n",
            " [12945.        ]\n",
            " [10345.        ]\n",
            " [ 6785.        ]\n",
            " [13207.12935323]\n",
            " [13207.12935323]\n",
            " [11048.        ]\n",
            " [32250.        ]\n",
            " [35550.        ]\n",
            " [36000.        ]\n",
            " [ 5195.        ]\n",
            " [ 6095.        ]\n",
            " [ 6795.        ]\n",
            " [ 6695.        ]\n",
            " [ 7395.        ]\n",
            " [10945.        ]\n",
            " [11845.        ]\n",
            " [13645.        ]\n",
            " [15645.        ]\n",
            " [ 8845.        ]\n",
            " [ 8495.        ]\n",
            " [10595.        ]\n",
            " [10245.        ]\n",
            " [10795.        ]\n",
            " [11245.        ]\n",
            " [18280.        ]\n",
            " [18344.        ]\n",
            " [25552.        ]\n",
            " [28248.        ]\n",
            " [28176.        ]\n",
            " [31600.        ]\n",
            " [34184.        ]\n",
            " [35056.        ]\n",
            " [40960.        ]\n",
            " [45400.        ]\n",
            " [16503.        ]\n",
            " [ 5389.        ]\n",
            " [ 6189.        ]\n",
            " [ 6669.        ]\n",
            " [ 7689.        ]\n",
            " [ 9959.        ]\n",
            " [ 8499.        ]\n",
            " [12629.        ]\n",
            " [14869.        ]\n",
            " [14489.        ]\n",
            " [ 6989.        ]\n",
            " [ 8189.        ]\n",
            " [ 9279.        ]\n",
            " [ 9279.        ]\n",
            " [ 5499.        ]\n",
            " [ 7099.        ]\n",
            " [ 6649.        ]\n",
            " [ 6849.        ]\n",
            " [ 7349.        ]\n",
            " [ 7299.        ]\n",
            " [ 7799.        ]\n",
            " [ 7499.        ]\n",
            " [ 7999.        ]\n",
            " [ 8249.        ]\n",
            " [ 8949.        ]\n",
            " [ 9549.        ]\n",
            " [13499.        ]\n",
            " [14399.        ]\n",
            " [13499.        ]\n",
            " [17199.        ]\n",
            " [19699.        ]\n",
            " [18399.        ]\n",
            " [11900.        ]\n",
            " [13200.        ]\n",
            " [12440.        ]\n",
            " [13860.        ]\n",
            " [15580.        ]\n",
            " [16900.        ]\n",
            " [16695.        ]\n",
            " [17075.        ]\n",
            " [16630.        ]\n",
            " [17950.        ]\n",
            " [18150.        ]\n",
            " [ 5572.        ]\n",
            " [ 7957.        ]\n",
            " [ 6229.        ]\n",
            " [ 6692.        ]\n",
            " [ 7609.        ]\n",
            " [ 8921.        ]\n",
            " [12764.        ]\n",
            " [22018.        ]\n",
            " [32528.        ]\n",
            " [34028.        ]\n",
            " [37028.        ]\n",
            " [13207.12935323]\n",
            " [ 9295.        ]\n",
            " [ 9895.        ]\n",
            " [11850.        ]\n",
            " [12170.        ]\n",
            " [15040.        ]\n",
            " [15510.        ]\n",
            " [18150.        ]\n",
            " [18620.        ]\n",
            " [ 5118.        ]\n",
            " [ 7053.        ]\n",
            " [ 7603.        ]\n",
            " [ 7126.        ]\n",
            " [ 7775.        ]\n",
            " [ 9960.        ]\n",
            " [ 9233.        ]\n",
            " [11259.        ]\n",
            " [ 7463.        ]\n",
            " [10198.        ]\n",
            " [ 8013.        ]\n",
            " [11694.        ]\n",
            " [ 5348.        ]\n",
            " [ 6338.        ]\n",
            " [ 6488.        ]\n",
            " [ 6918.        ]\n",
            " [ 7898.        ]\n",
            " [ 8778.        ]\n",
            " [ 6938.        ]\n",
            " [ 7198.        ]\n",
            " [ 7898.        ]\n",
            " [ 7788.        ]\n",
            " [ 7738.        ]\n",
            " [ 8358.        ]\n",
            " [ 9258.        ]\n",
            " [ 8058.        ]\n",
            " [ 8238.        ]\n",
            " [ 9298.        ]\n",
            " [ 9538.        ]\n",
            " [ 8449.        ]\n",
            " [ 9639.        ]\n",
            " [ 9989.        ]\n",
            " [11199.        ]\n",
            " [11549.        ]\n",
            " [17669.        ]\n",
            " [ 8948.        ]\n",
            " [10698.        ]\n",
            " [ 9988.        ]\n",
            " [10898.        ]\n",
            " [11248.        ]\n",
            " [16558.        ]\n",
            " [15998.        ]\n",
            " [15690.        ]\n",
            " [15750.        ]\n",
            " [ 7775.        ]\n",
            " [ 7975.        ]\n",
            " [ 7995.        ]\n",
            " [ 8195.        ]\n",
            " [ 8495.        ]\n",
            " [ 9495.        ]\n",
            " [ 9995.        ]\n",
            " [11595.        ]\n",
            " [ 9980.        ]\n",
            " [13295.        ]\n",
            " [13845.        ]\n",
            " [12290.        ]\n",
            " [12940.        ]\n",
            " [13415.        ]\n",
            " [15985.        ]\n",
            " [16515.        ]\n",
            " [18420.        ]\n",
            " [18950.        ]\n",
            " [16845.        ]\n",
            " [19045.        ]\n",
            " [21485.        ]\n",
            " [22470.        ]\n",
            " [22625.        ]]\n"
          ]
        }
      ]
    },
    {
      "cell_type": "code",
      "source": [
        "from sklearn.compose import ColumnTransformer\n",
        "from sklearn.preprocessing import OneHotEncoder\n",
        "ct = ColumnTransformer(transformers=[('encoder', OneHotEncoder(), [0])], remainder='passthrough')\n",
        "x = np.array(ct.fit_transform(x))"
      ],
      "metadata": {
        "id": "uvAiBToQukDB"
      },
      "execution_count": 15,
      "outputs": []
    },
    {
      "cell_type": "code",
      "source": [
        "print(x)"
      ],
      "metadata": {
        "colab": {
          "base_uri": "https://localhost:8080/"
        },
        "id": "8ofrMBbnurl0",
        "outputId": "d277bf66-ebf0-4799-99fd-2e76b5c98c0a"
      },
      "execution_count": 16,
      "outputs": [
        {
          "output_type": "stream",
          "name": "stdout",
          "text": [
            "[[0.0 0.0 0.0 ... '5000' 21 27]\n",
            " [0.0 0.0 0.0 ... '5000' 21 27]\n",
            " [0.0 0.0 0.0 ... '5000' 19 26]\n",
            " ...\n",
            " [0.0 1.0 0.0 ... '5500' 18 23]\n",
            " [0.0 1.0 0.0 ... '4800' 26 27]\n",
            " [0.0 1.0 0.0 ... '5400' 19 25]]\n"
          ]
        }
      ]
    },
    {
      "cell_type": "code",
      "source": [
        "from sklearn.preprocessing import LabelEncoder\n",
        "Le = LabelEncoder()\n",
        "y = Le.fit_transform(y)"
      ],
      "metadata": {
        "colab": {
          "base_uri": "https://localhost:8080/"
        },
        "id": "s71xxdT1uuIW",
        "outputId": "ee203dee-2f77-4777-f74b-ea85a0cb48b6"
      },
      "execution_count": 17,
      "outputs": [
        {
          "output_type": "stream",
          "name": "stderr",
          "text": [
            "/usr/local/lib/python3.12/dist-packages/sklearn/preprocessing/_label.py:110: DataConversionWarning: A column-vector y was passed when a 1d array was expected. Please change the shape of y to (n_samples, ), for example using ravel().\n",
            "  y = column_or_1d(y, warn=True)\n"
          ]
        }
      ]
    },
    {
      "cell_type": "code",
      "source": [
        "print(y)"
      ],
      "metadata": {
        "colab": {
          "base_uri": "https://localhost:8080/"
        },
        "id": "OAGMLwppu9MD",
        "outputId": "e7a350ae-e1f2-421d-958d-9090ce633d43"
      },
      "execution_count": 18,
      "outputs": [
        {
          "output_type": "stream",
          "name": "stdout",
          "text": [
            "[118 137 137 123 148 128 150 158 168 115 136 145 162 163 169 173 185 182\n",
            "   1  11  17   7  13  49  10  20  41  63  66 113  14  25   5  16  32  34\n",
            "  34  47  69  65  88 112  89  22 115 115  95 175 180 181   2   8  23  21\n",
            "  37  94 103 120 131  65  61  90  87  92  97 153 154 170 172 171 174 178\n",
            " 179 184 186 138   4   9  19  42  80  62 109 126 125  28  55  72  72   6\n",
            "  30  18  24  36  35  46  39  52  58  68  77 119 124 119 147 161 155 105\n",
            " 114 108 122 130 144 142 146 141 151 152   7  49  10  20  41  66 110 165\n",
            " 176 177 183 115  73  79 104 106 127 129 152 157   0  29  40  31  44  81\n",
            "  70  99  38  86  53 102   3  12  15  26  48  64  27  33  48  45  43  59\n",
            "  71  54  57  74  76  60  78  84  96 100 149  67  91  83  93  98 140 135\n",
            " 132 133  44  50  51  56  61  75  85 101  82 116 121 107 111 117 134 139\n",
            " 156 159 143 160 164 166 167]\n"
          ]
        }
      ]
    },
    {
      "cell_type": "code",
      "source": [
        "from sklearn.model_selection import train_test_split\n",
        "x_train, x_test, y_train, y_test = train_test_split(x, y, test_size = 0.2, random_state = 1)"
      ],
      "metadata": {
        "id": "qSB1SrTlvd-T"
      },
      "execution_count": 19,
      "outputs": []
    },
    {
      "cell_type": "code",
      "source": [
        "print(x_train)"
      ],
      "metadata": {
        "colab": {
          "base_uri": "https://localhost:8080/"
        },
        "id": "2zWokC88v91M",
        "outputId": "e1235b38-31d6-4727-8b29-b3103ed439af"
      },
      "execution_count": 20,
      "outputs": [
        {
          "output_type": "stream",
          "name": "stdout",
          "text": [
            "[[0.0 0.0 0.0 ... '5200' 19 25]\n",
            " [0.0 0.0 0.0 ... '4800' 45 50]\n",
            " [0.0 0.0 1.0 ... '5200' 25 31]\n",
            " ...\n",
            " [0.0 0.0 0.0 ... '4750' 16 18]\n",
            " [0.0 0.0 0.0 ... '4400' 26 31]\n",
            " [0.0 0.0 1.0 ... '5800' 27 33]]\n"
          ]
        }
      ]
    },
    {
      "cell_type": "code",
      "source": [
        "print(x_test)"
      ],
      "metadata": {
        "colab": {
          "base_uri": "https://localhost:8080/"
        },
        "id": "K9U8oxNawG5b",
        "outputId": "5ac9286e-a9b1-4d84-8f7b-a3b3e0829359"
      },
      "execution_count": 21,
      "outputs": [
        {
          "output_type": "stream",
          "name": "stdout",
          "text": [
            "[[0.0 0.0 0.0 ... '5500' 31 38]\n",
            " [0.0 0.0 0.0 ... '5200' 31 37]\n",
            " [0.0 0.0 0.0 ... '4800' 31 38]\n",
            " ...\n",
            " [0.0 0.0 0.0 ... '6000' 16 23]\n",
            " [0.0 1.0 0.0 ... '5400' 19 25]\n",
            " [0.0 0.0 0.0 ... '4900' 31 36]]\n"
          ]
        }
      ]
    },
    {
      "cell_type": "code",
      "source": [
        "print(y_train)"
      ],
      "metadata": {
        "colab": {
          "base_uri": "https://localhost:8080/"
        },
        "id": "Op6ucEz_wSOx",
        "outputId": "53da73d0-ef99-4f2f-b9de-c1dc17cbaf77"
      },
      "execution_count": 22,
      "outputs": [
        {
          "output_type": "stream",
          "name": "stdout",
          "text": [
            "[155  30  86  56  46 184   8 152 119 171 105 169  71  65  11  98  65 122\n",
            "  57 103  93 110 133  48  21  35  81 161 104  89 182 128   3 159 180  74\n",
            " 154 146  37  36  41   6 100  66 162 177 124 134  45  68  62  85 111 163\n",
            " 109 135  50 115 114  34  76 116  48 144  26 164   7 156 138   7  18  61\n",
            " 137 174  28  64 150  60 118  43   9 142 153  94 143  72 101  95 186  24\n",
            "  53  72 166 136   5 126  59  77 165  49 176 115  83 147  75 129 130 107\n",
            "  97 173 112  78 108  80  23  41   4  22  10 123  91 181 102  79 117  14\n",
            "  20 141 132 168  61 183 137 120  13  90  92 158 160  31  55  39 172   2\n",
            "  44  33  27  29  38 119  17 140  20 127 178 115  70 121  42 106 157 179\n",
            "  40  47]\n"
          ]
        }
      ]
    },
    {
      "cell_type": "code",
      "source": [
        "print(y_test)"
      ],
      "metadata": {
        "colab": {
          "base_uri": "https://localhost:8080/"
        },
        "id": "oaPgFoVGwVN9",
        "outputId": "e8534b8d-14b1-4691-ef99-7331ff4e0f71"
      },
      "execution_count": 23,
      "outputs": [
        {
          "output_type": "stream",
          "name": "stdout",
          "text": [
            "[ 19  52  12 115  88 170  58   1  15  87 148 149 139  69 113  96  82  16\n",
            " 152  99  67  25 145  49  84  32 125  51  10  34  54  66 185  73 151  44\n",
            "  63 175 131 167   0]\n"
          ]
        }
      ]
    },
    {
      "cell_type": "code",
      "source": [],
      "metadata": {
        "id": "-ZJUmY_cws3p"
      },
      "execution_count": null,
      "outputs": []
    }
  ]
}